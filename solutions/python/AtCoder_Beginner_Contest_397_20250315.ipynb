{
 "cells": [
  {
   "cell_type": "markdown",
   "metadata": {},
   "source": [
    "# A - Thermometer"
   ]
  },
  {
   "cell_type": "code",
   "execution_count": 3,
   "metadata": {},
   "outputs": [
    {
     "name": "stdout",
     "output_type": "stream",
     "text": [
      "2\n"
     ]
    }
   ],
   "source": [
    "X = float(input().strip())\n",
    "\n",
    "if X >= 38.0:\n",
    "    print(1)\n",
    "elif X >= 37.5:\n",
    "    print(2)\n",
    "else:\n",
    "    print(3)"
   ]
  },
  {
   "cell_type": "markdown",
   "metadata": {},
   "source": [
    "# B - Ticket Gate Log"
   ]
  },
  {
   "cell_type": "code",
   "execution_count": 18,
   "metadata": {},
   "outputs": [
    {
     "name": "stdout",
     "output_type": "stream",
     "text": [
      "5\n"
     ]
    }
   ],
   "source": [
    "S = input().strip()  # 文字列入力\n",
    "\n",
    "j = 0 \n",
    "for c in S:\n",
    "    expected = 'i' if j % 2 == 0 else 'o'\n",
    "    while c != expected:\n",
    "        j += 1\n",
    "        expected = 'i' if j % 2 == 0 else 'o'\n",
    "    j += 1\n",
    "\n",
    "if j % 2 == 1:\n",
    "    j += 1\n",
    "\n",
    "print(j - len(S))"
   ]
  },
  {
   "cell_type": "markdown",
   "metadata": {},
   "source": [
    "# C - Variety Split Easy"
   ]
  },
  {
   "cell_type": "code",
   "execution_count": 20,
   "metadata": {},
   "outputs": [
    {
     "name": "stdout",
     "output_type": "stream",
     "text": [
      "5\n"
     ]
    }
   ],
   "source": [
    "N = int(input().strip())  # 整数入力\n",
    "A = list(map(int, input().split()))  # 整数列\n",
    "\n",
    "prefix = [0] * N\n",
    "seen = set()\n",
    "for i in range(N):\n",
    "    seen.add(A[i])\n",
    "    prefix[i] = len(seen)\n",
    "suffix = [0] * N\n",
    "seen = set()\n",
    "for i in range(N-1, -1, -1):\n",
    "    seen.add(A[i])\n",
    "    suffix[i] = len(seen)\n",
    "\n",
    "ans = 0\n",
    "for i in range(N - 1):\n",
    "    ans = max(ans, prefix[i] + suffix[i+1])\n",
    "\n",
    "print(ans)\n"
   ]
  },
  {
   "cell_type": "markdown",
   "metadata": {},
   "source": [
    "# D - Cubes"
   ]
  },
  {
   "cell_type": "code",
   "execution_count": null,
   "metadata": {},
   "outputs": [],
   "source": [
    "N = int(input().strip())  # 整数入力"
   ]
  }
 ],
 "metadata": {
  "kernelspec": {
   "display_name": "Python 3",
   "language": "python",
   "name": "python3"
  },
  "language_info": {
   "codemirror_mode": {
    "name": "ipython",
    "version": 3
   },
   "file_extension": ".py",
   "mimetype": "text/x-python",
   "name": "python",
   "nbconvert_exporter": "python",
   "pygments_lexer": "ipython3",
   "version": "3.10.12"
  }
 },
 "nbformat": 4,
 "nbformat_minor": 2
}
