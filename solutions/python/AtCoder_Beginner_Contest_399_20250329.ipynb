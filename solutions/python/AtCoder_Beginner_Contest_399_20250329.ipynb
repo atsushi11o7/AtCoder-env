{
 "cells": [
  {
   "cell_type": "markdown",
   "metadata": {},
   "source": [
    "A - Hamming Distance"
   ]
  },
  {
   "cell_type": "code",
   "execution_count": 3,
   "metadata": {},
   "outputs": [
    {
     "name": "stdout",
     "output_type": "stream",
     "text": [
      "2\n"
     ]
    }
   ],
   "source": [
    "N = int(input().strip())  # 整数入力\n",
    "S = input().strip()  # 文字列入力\n",
    "T = input().strip()  # 文字列入力\n",
    "\n",
    "distance = 0\n",
    "for i in range(N):\n",
    "    if S[i] != T[i]:\n",
    "        distance += 1\n",
    "\n",
    "print(distance)\n"
   ]
  },
  {
   "cell_type": "markdown",
   "metadata": {},
   "source": [
    "# B - Ranking with Ties"
   ]
  },
  {
   "cell_type": "code",
   "execution_count": null,
   "metadata": {},
   "outputs": [
    {
     "name": "stdout",
     "output_type": "stream",
     "text": [
      "[1, 2, 3]\n"
     ]
    }
   ],
   "source": [
    "N = int(input().strip())  # 整数入力\n",
    "P = list(map(int, input().split()))\n",
    "\n",
    "score_with_index = [(P[i], i) for i in range(N)]\n",
    "\n",
    "score_with_index.sort(key=lambda x: x[0], reverse=True)\n",
    "\n",
    "ranks = [0] * N\n",
    "r = 1\n",
    "i = 0\n",
    "\n",
    "while i < N:\n",
    "    score = score_with_index[i][0]\n",
    "    j = i\n",
    "    while j < N and score_with_index[j][0] == score:\n",
    "        j += 1\n",
    "\n",
    "    for k in range(i, j):\n",
    "        ranks[score_with_index[k][1]] = r\n",
    "    r += (j - i)\n",
    "    i = j\n",
    "\n",
    "for rank in ranks:\n",
    "    print(rank)\n"
   ]
  },
  {
   "cell_type": "markdown",
   "metadata": {},
   "source": [
    "# C - Make it Forest"
   ]
  },
  {
   "cell_type": "code",
   "execution_count": null,
   "metadata": {},
   "outputs": [
    {
     "name": "stdout",
     "output_type": "stream",
     "text": [
      "2\n"
     ]
    }
   ],
   "source": [
    "class UnionFind:\n",
    "    def __init__(self, n):\n",
    "        self.parent = list(range(n))\n",
    "        self.rank = [0] * n\n",
    "    \n",
    "    def find(self, x):\n",
    "        if self.parent[x] != x:\n",
    "            self.parent[x] = self.find(self.parent[x])\n",
    "        return self.parent[x]\n",
    "    \n",
    "    def union(self, x, y):\n",
    "        rootX = self.find(x)\n",
    "        rootY = self.find(y)\n",
    "        \n",
    "        if rootX != rootY:\n",
    "            # Union by rank\n",
    "            if self.rank[rootX] > self.rank[rootY]:\n",
    "                self.parent[rootY] = rootX\n",
    "            elif self.rank[rootX] < self.rank[rootY]:\n",
    "                self.parent[rootX] = rootY\n",
    "            else:\n",
    "                self.parent[rootY] = rootX\n",
    "                self.rank[rootX] += 1\n",
    "            return True\n",
    "        return False\n",
    "\n",
    "N, M = map(int, input().split())\n",
    "\n",
    "uf = UnionFind(N)\n",
    "\n",
    "deleted_edges = 0\n",
    "for _ in range(M):\n",
    "    u, v = map(int, input().split())\n",
    "    u -= 1\n",
    "    v -= 1\n",
    "    if not uf.union(u, v):\n",
    "        deleted_edges += 1\n",
    "\n",
    "print(deleted_edges)"
   ]
  },
  {
   "cell_type": "markdown",
   "metadata": {},
   "source": [
    "# D - Switch Seats"
   ]
  },
  {
   "cell_type": "code",
   "execution_count": null,
   "metadata": {},
   "outputs": [],
   "source": []
  }
 ],
 "metadata": {
  "kernelspec": {
   "display_name": "Python 3",
   "language": "python",
   "name": "python3"
  },
  "language_info": {
   "codemirror_mode": {
    "name": "ipython",
    "version": 3
   },
   "file_extension": ".py",
   "mimetype": "text/x-python",
   "name": "python",
   "nbconvert_exporter": "python",
   "pygments_lexer": "ipython3",
   "version": "3.10.12"
  }
 },
 "nbformat": 4,
 "nbformat_minor": 2
}
