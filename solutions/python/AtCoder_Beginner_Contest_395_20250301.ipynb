{
 "cells": [
  {
   "cell_type": "markdown",
   "metadata": {},
   "source": [
    "# A - Strictly Increasing?"
   ]
  },
  {
   "cell_type": "code",
   "execution_count": null,
   "metadata": {},
   "outputs": [],
   "source": [
    "N = int(input().strip())  # 整数入力\n",
    "A = list(map(int, input().split()))\n",
    "\n",
    "for i in range(N - 1):\n",
    "    if A[i] >= A[i + 1]:\n",
    "        print(\"No\")\n",
    "        break\n",
    "else:\n",
    "    print(\"Yes\")"
   ]
  },
  {
   "cell_type": "markdown",
   "metadata": {},
   "source": [
    "# B - Make Target"
   ]
  },
  {
   "cell_type": "code",
   "execution_count": 4,
   "metadata": {},
   "outputs": [
    {
     "name": "stdout",
     "output_type": "stream",
     "text": [
      "###########\n",
      "#.........#\n",
      "#.#######.#\n",
      "#.#.....#.#\n",
      "#.#.###.#.#\n",
      "#.#.#.#.#.#\n",
      "#.#.###.#.#\n",
      "#.#.....#.#\n",
      "#.#######.#\n",
      "#.........#\n",
      "###########\n"
     ]
    }
   ],
   "source": [
    "N = int(input().strip())  # 整数入力\n",
    "\n",
    "grid = [['.' for _ in range(N)] for _ in range(N)]\n",
    "\n",
    "for i in range(1, N + 1):\n",
    "    j = N + 1 - i\n",
    "    if i <= j:\n",
    "        color = '#' if i % 2 != 0 else '.'\n",
    "        for row in range(i - 1, j):\n",
    "            for col in range(i - 1, j):\n",
    "                grid[row][col] = color\n",
    "\n",
    "for row in grid:\n",
    "    print(''.join(row))"
   ]
  },
  {
   "cell_type": "markdown",
   "metadata": {},
   "source": [
    "# C - Shortest Duplicate Subarray"
   ]
  },
  {
   "cell_type": "code",
   "execution_count": null,
   "metadata": {},
   "outputs": [
    {
     "name": "stdout",
     "output_type": "stream",
     "text": [
      "-1\n"
     ]
    }
   ],
   "source": [
    "N = int(input().strip())  # 整数入力\n",
    "A = list(map(int, input().split()))  # 整数列\n",
    "\n",
    "last_position = {}\n",
    "min_length = float('inf')\n",
    "\n",
    "for i in range(N):\n",
    "    if A[i] in last_position:\n",
    "        min_length = min(min_length, i - last_position[A[i]] + 1)\n",
    "    last_position[A[i]] = i\n",
    "\n",
    "if min_length == float('inf'):\n",
    "    print(-1)\n",
    "else:\n",
    "    print(min_length)"
   ]
  },
  {
   "cell_type": "markdown",
   "metadata": {},
   "source": [
    "# D - Pigeon Swap"
   ]
  },
  {
   "cell_type": "code",
   "execution_count": null,
   "metadata": {},
   "outputs": [],
   "source": [
    "N, Q = map(int, input().split())\n",
    "\n",
    "for _ in range(Q):\n",
    "    query = list(map(int, input().split()))"
   ]
  }
 ],
 "metadata": {
  "kernelspec": {
   "display_name": "Python 3",
   "language": "python",
   "name": "python3"
  },
  "language_info": {
   "codemirror_mode": {
    "name": "ipython",
    "version": 3
   },
   "file_extension": ".py",
   "mimetype": "text/x-python",
   "name": "python",
   "nbconvert_exporter": "python",
   "pygments_lexer": "ipython3",
   "version": "3.10.12"
  }
 },
 "nbformat": 4,
 "nbformat_minor": 2
}
