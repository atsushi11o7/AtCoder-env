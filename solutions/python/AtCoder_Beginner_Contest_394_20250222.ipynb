{
 "cells": [
  {
   "cell_type": "markdown",
   "metadata": {},
   "source": [
    "# A - 22222"
   ]
  },
  {
   "cell_type": "code",
   "execution_count": null,
   "metadata": {},
   "outputs": [
    {
     "name": "stdout",
     "output_type": "stream",
     "text": [
      "2\n"
     ]
    }
   ],
   "source": [
    "S = input().strip()\n",
    "\n",
    "result = ''.join(c for c in S if c == '2')\n",
    "\n",
    "print(result)"
   ]
  },
  {
   "cell_type": "markdown",
   "metadata": {},
   "source": [
    "# B - cat"
   ]
  },
  {
   "cell_type": "code",
   "execution_count": null,
   "metadata": {},
   "outputs": [],
   "source": [
    "N = int(input().strip())\n",
    "strings = [input().strip() for _ in range(N)]\n",
    "\n",
    "sorted_strings = sorted(strings, key=len)\n",
    "\n",
    "result = ''.join(sorted_strings)\n",
    "\n",
    "print(result)"
   ]
  },
  {
   "cell_type": "markdown",
   "metadata": {},
   "source": [
    "# C - Debug"
   ]
  },
  {
   "cell_type": "code",
   "execution_count": 9,
   "metadata": {},
   "outputs": [
    {
     "name": "stdout",
     "output_type": "stream",
     "text": [
      "ACCAC\n"
     ]
    }
   ],
   "source": [
    "S = list(input().strip())\n",
    "\n",
    "i = 0\n",
    "while i < len(S) - 1:\n",
    "    if S[i] == 'W' and S[i+1] == 'A':\n",
    "        S[i], S[i+1] = 'A', 'C'\n",
    "        if i > 0:\n",
    "            i -= 1\n",
    "        else:\n",
    "            i += 1\n",
    "    else:\n",
    "        i += 1\n",
    "\n",
    "print(\"\".join(S))"
   ]
  },
  {
   "cell_type": "markdown",
   "metadata": {},
   "source": [
    "# D - Colorful Bracket Sequence"
   ]
  },
  {
   "cell_type": "code",
   "execution_count": 12,
   "metadata": {},
   "outputs": [
    {
     "name": "stdout",
     "output_type": "stream",
     "text": [
      "No\n"
     ]
    }
   ],
   "source": [
    "def is_colorful_bracket_sequence(s):\n",
    "    matching = {')': '(', ']': '[', '>': '<'}\n",
    "    stack = []\n",
    "    for ch in s:\n",
    "        if ch in \"([<\":\n",
    "            stack.append(ch)\n",
    "        else:\n",
    "            if stack and stack[-1] == matching[ch]:\n",
    "                stack.pop()\n",
    "            else:\n",
    "                return False\n",
    "    return not stack\n",
    "\n",
    "S = input().strip()\n",
    "\n",
    "print(\"Yes\" if is_colorful_bracket_sequence(S) else \"No\")"
   ]
  },
  {
   "cell_type": "markdown",
   "metadata": {},
   "source": [
    "# E - Palindromic Shortest Path"
   ]
  },
  {
   "cell_type": "code",
   "execution_count": 17,
   "metadata": {},
   "outputs": [
    {
     "name": "stdout",
     "output_type": "stream",
     "text": [
      "0 1 2 4\n",
      "-1 0 1 -1\n",
      "3 -1 0 1\n",
      "1 -1 -1 0\n"
     ]
    }
   ],
   "source": [
    "N = int(input().strip())\n",
    "C = [input().strip() for _ in range(N)]\n",
    "\n",
    "in_neighbors = []\n",
    "out_neighbors = []\n",
    "for i in range(N):\n",
    "    in_neighbors.append({})\n",
    "    out_neighbors.append({})\n",
    "\n",
    "for i in range(N):\n",
    "    for j in range(N):\n",
    "        ch = C[i][j]\n",
    "        if ch != '-':\n",
    "            if ch not in out_neighbors[i]:\n",
    "                out_neighbors[i][ch] = []\n",
    "            out_neighbors[i][ch].append(j)\n",
    "            if ch not in in_neighbors[j]:\n",
    "                in_neighbors[j][ch] = []\n",
    "            in_neighbors[j][ch].append(i)\n",
    "\n",
    "INF = 10**9\n",
    "dp = [[INF] * N for _ in range(N)]\n",
    "queue = []\n",
    "\n",
    "for i in range(N):\n",
    "    dp[i][i] = 0\n",
    "    queue.append((i, i))\n",
    "for i in range(N):\n",
    "    for j in range(N):\n",
    "        if C[i][j] != '-':\n",
    "            if dp[i][j] > 1:\n",
    "                dp[i][j] = 1\n",
    "                queue.append((i, j))\n",
    "\n",
    "while queue:\n",
    "    u, v = queue.pop(0)\n",
    "    d = dp[u][v]\n",
    "    for letter, x_list in in_neighbors[u].items():\n",
    "        if letter in out_neighbors[v]:\n",
    "            y_list = out_neighbors[v][letter]\n",
    "            for x in x_list:\n",
    "                for y in y_list:\n",
    "                    nd = d + 2\n",
    "                    if nd < dp[x][y]:\n",
    "                        dp[x][y] = nd\n",
    "                        queue.append((x, y))\n",
    "\n",
    "for i in range(N):\n",
    "    row = []\n",
    "    for j in range(N):\n",
    "        if dp[i][j] == INF:\n",
    "            row.append(\"-1\")\n",
    "        else:\n",
    "            row.append(str(dp[i][j]))\n",
    "    print(\" \".join(row))\n",
    "\n"
   ]
  }
 ],
 "metadata": {
  "kernelspec": {
   "display_name": "Python 3",
   "language": "python",
   "name": "python3"
  },
  "language_info": {
   "codemirror_mode": {
    "name": "ipython",
    "version": 3
   },
   "file_extension": ".py",
   "mimetype": "text/x-python",
   "name": "python",
   "nbconvert_exporter": "python",
   "pygments_lexer": "ipython3",
   "version": "3.10.12"
  }
 },
 "nbformat": 4,
 "nbformat_minor": 2
}
